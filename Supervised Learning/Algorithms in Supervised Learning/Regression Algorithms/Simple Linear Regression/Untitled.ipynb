{
 "cells": [
  {
   "cell_type": "markdown",
   "id": "2109d81f-468e-46b8-ab32-230faafda4f4",
   "metadata": {},
   "source": [
    "# Salary Prediction using Custom Linear Regression\n",
    "\n",
    "## Introduction\n",
    "This project uses a custom implementation of Linear Regression to predict salaries based on years of experience.\n",
    "\n",
    "## Workflow\n",
    "1. Import necessary libraries and dataset.\n",
    "2. Explore the dataset.\n",
    "3. Split the data into training and testing sets.\n",
    "4. Implement a custom `LinearRegression` class.\n",
    "5. Train the model and calculate coefficients.\n",
    "6. Make predictions and visualize the results.\n",
    "\n",
    "## Dataset Information\n",
    "- **Dataset Name**: `Salary_dataset.csv`\n",
    "- **Features**:\n",
    "  - `YearsExperience`: Number of years of experience.\n",
    "  - `Salary`: Annual salary in dollars.\n"
   ]
  },
  {
   "cell_type": "code",
   "execution_count": 1,
   "id": "635f1ad5-f497-4019-9611-6f1a0a558319",
   "metadata": {},
   "outputs": [],
   "source": [
    "# Import necessary libraries\n",
    "import pandas as pd\n",
    "import numpy as np\n",
    "import matplotlib.pyplot as plt\n",
    "from sklearn.model_selection import train_test_split"
   ]
  },
  {
   "cell_type": "code",
   "execution_count": 2,
   "id": "694ffae5-5a97-4c14-9a4e-6ed23c042e9d",
   "metadata": {},
   "outputs": [
    {
     "data": {
      "text/html": [
       "<div>\n",
       "<style scoped>\n",
       "    .dataframe tbody tr th:only-of-type {\n",
       "        vertical-align: middle;\n",
       "    }\n",
       "\n",
       "    .dataframe tbody tr th {\n",
       "        vertical-align: top;\n",
       "    }\n",
       "\n",
       "    .dataframe thead th {\n",
       "        text-align: right;\n",
       "    }\n",
       "</style>\n",
       "<table border=\"1\" class=\"dataframe\">\n",
       "  <thead>\n",
       "    <tr style=\"text-align: right;\">\n",
       "      <th></th>\n",
       "      <th>Unnamed: 0</th>\n",
       "      <th>YearsExperience</th>\n",
       "      <th>Salary</th>\n",
       "    </tr>\n",
       "  </thead>\n",
       "  <tbody>\n",
       "    <tr>\n",
       "      <th>0</th>\n",
       "      <td>0</td>\n",
       "      <td>1.2</td>\n",
       "      <td>39344.0</td>\n",
       "    </tr>\n",
       "    <tr>\n",
       "      <th>1</th>\n",
       "      <td>1</td>\n",
       "      <td>1.4</td>\n",
       "      <td>46206.0</td>\n",
       "    </tr>\n",
       "    <tr>\n",
       "      <th>2</th>\n",
       "      <td>2</td>\n",
       "      <td>1.6</td>\n",
       "      <td>37732.0</td>\n",
       "    </tr>\n",
       "    <tr>\n",
       "      <th>3</th>\n",
       "      <td>3</td>\n",
       "      <td>2.1</td>\n",
       "      <td>43526.0</td>\n",
       "    </tr>\n",
       "    <tr>\n",
       "      <th>4</th>\n",
       "      <td>4</td>\n",
       "      <td>2.3</td>\n",
       "      <td>39892.0</td>\n",
       "    </tr>\n",
       "  </tbody>\n",
       "</table>\n",
       "</div>"
      ],
      "text/plain": [
       "   Unnamed: 0  YearsExperience   Salary\n",
       "0           0              1.2  39344.0\n",
       "1           1              1.4  46206.0\n",
       "2           2              1.6  37732.0\n",
       "3           3              2.1  43526.0\n",
       "4           4              2.3  39892.0"
      ]
     },
     "execution_count": 2,
     "metadata": {},
     "output_type": "execute_result"
    }
   ],
   "source": [
    "# Load the dataset\n",
    "dataset = pd.read_csv(r\"Data/Salary_dataset.csv\")\n",
    "\n",
    "# Display the first 5 rows\n",
    "dataset.head()"
   ]
  },
  {
   "cell_type": "code",
   "execution_count": 3,
   "id": "85c629c8-64f9-4161-bfce-a7468116c0a0",
   "metadata": {},
   "outputs": [],
   "source": [
    "# Define features (X) and target (y)\n",
    "X = dataset[[\"YearsExperience\"]]  # Independent variable\n",
    "y = dataset[\"Salary\"]  # Dependent variable"
   ]
  },
  {
   "cell_type": "code",
   "execution_count": 4,
   "id": "0e721cd6-e412-45d6-bbe0-dcdcde68472e",
   "metadata": {},
   "outputs": [],
   "source": [
    "# Split the dataset into training and testing sets\n",
    "X_train, X_test, y_train, y_test = train_test_split(X, y, test_size=0.2, random_state=42)"
   ]
  },
  {
   "cell_type": "code",
   "execution_count": 5,
   "id": "92804d82-5d10-4483-9935-64df3044a4d5",
   "metadata": {},
   "outputs": [],
   "source": [
    "# Custom implementation of a Linear Regression model\n",
    "class LinearRegression:\n",
    "    def __init__(self):\n",
    "        \"\"\"Initialize the model with placeholders for slope and intercept.\"\"\"\n",
    "        self.coef_ = None  # Slope (m)\n",
    "        self.intercept_ = None  # Intercept (b)\n",
    "\n",
    "    def fit(self, X, y):\n",
    "        \"\"\"\n",
    "        Train the Linear Regression model using the training data.\n",
    "        Arguments:\n",
    "        - X: Independent variable (features), expects a DataFrame or Series.\n",
    "        - y: Dependent variable (target), expects a Series.\n",
    "        \"\"\"\n",
    "        Numerator = 0\n",
    "        Denominator = 0\n",
    "        \n",
    "        # Ensure X and y are squeezed to 1D arrays for calculations\n",
    "        X_values = X.squeeze()\n",
    "        y_values = y.squeeze()\n",
    "        \n",
    "        # Calculate the slope (m) and intercept (b) using the least squares method\n",
    "        for i in range(len(X_values)):\n",
    "            Numerator += (X_values.iloc[i] - X_values.mean()) * (y_values.iloc[i] - y_values.mean())\n",
    "            Denominator += (X_values.iloc[i] - X_values.mean()) ** 2\n",
    "        \n",
    "        # Store the slope and intercept\n",
    "        self.coef_ = Numerator / Denominator\n",
    "        self.intercept_ = y_values.mean() - (self.coef_ * X_values.mean())\n",
    "\n",
    "    def predict(self, X):\n",
    "        \"\"\"\n",
    "        Predict the target values for given input features.\n",
    "        Arguments:\n",
    "        - X: Input features, can be a list, NumPy array, or DataFrame.\n",
    "        Returns:\n",
    "        - Predicted values as a NumPy array.\n",
    "        \"\"\"\n",
    "        # Convert input to a NumPy array if necessary\n",
    "        if isinstance(X, list):\n",
    "            X = np.array(X)\n",
    "        if isinstance(X, pd.DataFrame):\n",
    "            X = X.values\n",
    "        \n",
    "        # Calculate predictions\n",
    "        y_pred = []\n",
    "        for i in range(X.shape[0]):\n",
    "            prediction = self.intercept_ + (self.coef_ * X[i])\n",
    "            y_pred.append(prediction)\n",
    "        \n",
    "        return np.ravel(y_pred)"
   ]
  },
  {
   "cell_type": "code",
   "execution_count": 6,
   "id": "b56b9a6a-067d-466b-bdda-d1119aaa78ed",
   "metadata": {},
   "outputs": [
    {
     "name": "stdout",
     "output_type": "stream",
     "text": [
      "Slope (m): 9423.815323030976, Intercept (b): 24380.201479473704\n"
     ]
    }
   ],
   "source": [
    "# Initialize and train the Linear Regression model\n",
    "lr = LinearRegression()\n",
    "lr.fit(X_train, y_train)\n",
    "\n",
    "# Retrieve the slope (m) and intercept (b)\n",
    "m = lr.coef_  # Slope\n",
    "b = lr.intercept_  # Intercept\n",
    "print(f\"Slope (m): {m}, Intercept (b): {b}\")"
   ]
  },
  {
   "cell_type": "code",
   "execution_count": 7,
   "id": "e9249b29-eb31-4315-8ba3-8de58b69ea2d",
   "metadata": {},
   "outputs": [
    {
     "name": "stdout",
     "output_type": "stream",
     "text": [
      "Predicted Salary for 9.7 years of experience: 115791.21011287416\n"
     ]
    }
   ],
   "source": [
    "# Predict the salary for 9.7 years of experience\n",
    "predicted_salary = lr.predict([[9.7]])\n",
    "print(f\"Predicted Salary for 9.7 years of experience: {predicted_salary[0]}\")"
   ]
  },
  {
   "cell_type": "code",
   "execution_count": 8,
   "id": "3b18c081-f437-4e39-b4a5-f3df98fcf43b",
   "metadata": {},
   "outputs": [
    {
     "data": {
      "image/png": "[encoded data removed]",
      "text/plain": [
       "<Figure size 800x600 with 1 Axes>"
      ]
     },
     "metadata": {},
     "output_type": "display_data"
    }
   ],
   "source": [
    "# Visualize the regression line\n",
    "plt.figure(figsize=(8, 6))\n",
    "plt.scatter(dataset[\"YearsExperience\"], dataset[\"Salary\"], label=\"Actual Data\", color='blue')\n",
    "plt.plot(dataset[\"YearsExperience\"], lr.predict(X), color=\"red\", label=\"Regression Line\")\n",
    "plt.xlabel(\"Years of Experience\")\n",
    "plt.ylabel(\"Salary\")\n",
    "plt.title(\"Linear Regression Fit\")\n",
    "plt.legend()\n",
    "plt.grid()\n",
    "plt.show()"
   ]
  }
 ],
 "metadata": {
  "kernelspec": {
   "display_name": "Python 3 (ipykernel)",
   "language": "python",
   "name": "python3"
  },
  "language_info": {
   "codemirror_mode": {
    "name": "ipython",
    "version": 3
   },
   "file_extension": ".py",
   "mimetype": "text/x-python",
   "name": "python",
   "nbconvert_exporter": "python",
   "pygments_lexer": "ipython3",
   "version": "3.12.7"
  }
 },
 "nbformat": 4,
 "nbformat_minor": 5
}
