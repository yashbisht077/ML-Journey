{
 "cells": [
  {
   "cell_type": "markdown",
   "id": "21f1dac0-a207-4471-bb5a-d7a8d614f82b",
   "metadata": {},
   "source": [
    "# R-squared (R²) Calculation\n",
    "\n",
    "## Introduction\n",
    "\n",
    "**R-squared (R²)**, also known as the Coefficient of Determination, measures how well the predicted values approximate the actual values. It indicates the proportion of the variance in the dependent variable that is predictable from the independent variable(s).\n",
    "\n",
    "This notebook demonstrates:\n",
    "1. Manual implementation of the R² calculation.\n",
    "2. Testing the implementation with a sample dataset.\n",
    "\n",
    "---\n",
    "\n",
    "## Function Definition\n",
    "\n",
    "The `r2_score` function is defined to:\n",
    "- Take two lists: `y_true` (actual values) and `y_pred` (predicted values).\n",
    "- Calculate the R² score by:\n",
    "  - Computing the **Total Sum of Squares (TSS)**.\n",
    "  - Computing the **Residual Sum of Squares (RSS)**.\n",
    "  - Substituting these values into the formula: \\( R^2 = 1 - \\frac{\\text{RSS}}{\\text{TSS}} \\).\n",
    "\n",
    "The function includes input validation to ensure both lists have the same length and raises an error if they differ.\n",
    "\n",
    "---"
   ]
  },
  {
   "cell_type": "code",
   "execution_count": 1,
   "id": "f0979576-3c38-49cc-b4b8-3b83de33451d",
   "metadata": {},
   "outputs": [],
   "source": [
    "def r2_score(y_true, y_pred):\n",
    "    \"\"\"\n",
    "    Calculate R-squared (R²) manually.\n",
    "\n",
    "    Parameters:\n",
    "    y_true (list): Actual values\n",
    "    y_pred (list): Predicted values\n",
    "\n",
    "    Returns:\n",
    "    float: R-squared value\n",
    "    \"\"\"\n",
    "    # Ensure y_true and y_pred are of the same length\n",
    "    if len(y_true) != len(y_pred):\n",
    "        raise ValueError(\"The length of y_true and y_pred must be the same.\")\n",
    "    \n",
    "    # Calculate mean of the actual values\n",
    "    mean_y_true = sum(y_true) / len(y_true)\n",
    "    \n",
    "    # Calculate total sum of squares (TSS)\n",
    "    tss = 0\n",
    "    for y in y_true:\n",
    "        tss += (y - mean_y_true) ** 2\n",
    "    \n",
    "    # Calculate residual sum of squares (RSS)\n",
    "    rss = 0\n",
    "    for i in range (len(y_true)):\n",
    "        rss += (y_true[i] - y_pred[i]) ** 2\n",
    "    \n",
    "    # Calculate R-squared\n",
    "    r2 = 1 - (rss / tss)\n",
    "    return r2"
   ]
  },
  {
   "cell_type": "code",
   "execution_count": 2,
   "id": "1bbaa7a2-42f4-45bc-adcf-7fa2076cb0a8",
   "metadata": {},
   "outputs": [
    {
     "name": "stdout",
     "output_type": "stream",
     "text": [
      "R-squared (R²) Score: 0.938\n"
     ]
    }
   ],
   "source": [
    "# Example dataset\n",
    "y_true = [10, 20, 30, 40, 50]\n",
    "y_pred = [12, 18, 35, 38, 55]\n",
    "\n",
    "# Calculate R²\n",
    "r2 = r2_score(y_true, y_pred)\n",
    "print(f\"R-squared (R²) Score: {r2}\")"
   ]
  }
 ],
 "metadata": {
  "kernelspec": {
   "display_name": "Python 3 (ipykernel)",
   "language": "python",
   "name": "python3"
  },
  "language_info": {
   "codemirror_mode": {
    "name": "ipython",
    "version": 3
   },
   "file_extension": ".py",
   "mimetype": "text/x-python",
   "name": "python",
   "nbconvert_exporter": "python",
   "pygments_lexer": "ipython3",
   "version": "3.12.7"
  }
 },
 "nbformat": 4,
 "nbformat_minor": 5
}
