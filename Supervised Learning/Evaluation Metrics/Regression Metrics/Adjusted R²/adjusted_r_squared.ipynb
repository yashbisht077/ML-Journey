{
 "cells": [
  {
   "cell_type": "markdown",
   "id": "824a9352-d6b6-41e8-bd73-29b1a3b064a6",
   "metadata": {},
   "source": [
    "# Adjusted R-squared (R² adj) Calculation\n",
    "\n",
    "## Introduction\n",
    "\n",
    "**Adjusted R-squared (R² adj)** is a modified version of R-squared that adjusts for the number of predictors in a model. It accounts for the diminishing returns of adding additional predictors and penalizes models with excessive complexity that do not significantly improve the model's fit.\n",
    "\n",
    "This notebook demonstrates:\n",
    "1. Manual implementation of Adjusted R² calculation.\n",
    "2. Testing the implementation with a sample dataset.\n",
    "\n",
    "---\n",
    "\n",
    "## Function Definition\n",
    "\n",
    "The `adjusted_r_squared` function is defined to:\n",
    "- Accept three parameters:\n",
    "  - \\( R^2 \\) (R-squared value),\n",
    "  - \\( n \\) (number of observations),\n",
    "  - \\( k \\) (number of predictors).\n",
    "- Calculate Adjusted R² using the formula:\n",
    "  \\[\n",
    "  R^2_{\\text{adj}} = 1 - \\left( \\frac{(1 - R^2) \\cdot (n - 1)}{n - k - 1} \\right)\n",
    "  \\]\n",
    "- Validate input to ensure that \\( n > k + 1 \\), raising an error otherwise.\n",
    "\n",
    "---\n"
   ]
  },
  {
   "cell_type": "code",
   "execution_count": 1,
   "id": "785c7031-aaaa-426c-81f3-863d0af79019",
   "metadata": {},
   "outputs": [],
   "source": [
    "def adjusted_r_squared(r_squared, n, k):\n",
    "    \"\"\"\n",
    "    Calculate Adjusted R-squared (R² adj).\n",
    "\n",
    "    Parameters:\n",
    "    r_squared (float): R-squared value\n",
    "    n (int): Number of data points\n",
    "    k (int): Number of predictors (independent variables)\n",
    "\n",
    "    Returns:\n",
    "    float: Adjusted R-squared value\n",
    "    \"\"\"\n",
    "    if n <= k + 1:\n",
    "        raise ValueError(\"Number of observations must be greater than predictors plus one.\")\n",
    "    \n",
    "    return 1 - ((1 - r_squared) * (n - 1) / (n - k - 1))\n"
   ]
  },
  {
   "cell_type": "code",
   "execution_count": 2,
   "id": "8bdb8909-0869-471d-8d05-84facbb3c28a",
   "metadata": {},
   "outputs": [
    {
     "name": "stdout",
     "output_type": "stream",
     "text": [
      "Adjusted R-squared (R² adj): 0.8420\n"
     ]
    }
   ],
   "source": [
    "# Example\n",
    "r_squared = 0.85\n",
    "n = 100\n",
    "k = 5\n",
    "\n",
    "r2_adj = adjusted_r_squared(r_squared, n, k)\n",
    "print(f\"Adjusted R-squared (R² adj): {r2_adj:.4f}\")"
   ]
  }
 ],
 "metadata": {
  "kernelspec": {
   "display_name": "Python 3 (ipykernel)",
   "language": "python",
   "name": "python3"
  },
  "language_info": {
   "codemirror_mode": {
    "name": "ipython",
    "version": 3
   },
   "file_extension": ".py",
   "mimetype": "text/x-python",
   "name": "python",
   "nbconvert_exporter": "python",
   "pygments_lexer": "ipython3",
   "version": "3.12.7"
  }
 },
 "nbformat": 4,
 "nbformat_minor": 5
}
