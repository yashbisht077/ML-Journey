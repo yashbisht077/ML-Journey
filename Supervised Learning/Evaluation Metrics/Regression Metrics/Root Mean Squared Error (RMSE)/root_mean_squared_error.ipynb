{
 "cells": [
  {
   "cell_type": "markdown",
   "id": "0bf519ab-3b66-46aa-826a-f4de4f4edea5",
   "metadata": {},
   "source": [
    "# Root Mean Squared Error (RMSE) Calculation\n",
    "\n",
    "## Introduction\n",
    "\n",
    "The **Root Mean Squared Error (RMSE)** is a commonly used metric to evaluate regression models. It measures the average magnitude of the errors between actual and predicted values, penalizing larger errors more heavily by squaring them before averaging.\n",
    "\n",
    "This notebook demonstrates:\n",
    "1. Manual implementation of the RMSE calculation.\n",
    "2. Testing the implementation with a sample dataset.\n",
    "\n",
    "---\n",
    "\n",
    "## Function Definition\n",
    "\n",
    "The `root_mean_squared_error` function is defined to:\n",
    "- Take two lists: `y_true` (actual values) and `y_pred` (predicted values).\n",
    "- Calculate the Root Mean Squared Error (RMSE) by:\n",
    "  - Computing the squared difference for each pair of true and predicted values.\n",
    "  - Summing up all squared differences.\n",
    "  - Dividing the total by the number of data points to get the Mean Squared Error (MSE).\n",
    "  - Taking the square root of the Mean Squared Error (MSE) to obtain the RMSE.\n",
    "\n",
    "The function includes input validation to ensure both lists have the same length and raises an error if they differ.\n",
    "\n",
    "---"
   ]
  },
  {
   "cell_type": "code",
   "execution_count": 1,
   "id": "30bf8daf-bef5-4257-a5dc-7fcc905be915",
   "metadata": {},
   "outputs": [],
   "source": [
    "import math"
   ]
  },
  {
   "cell_type": "code",
   "execution_count": 2,
   "id": "9e334ba9-a0d5-43f3-82d1-bc09fe7f4658",
   "metadata": {},
   "outputs": [],
   "source": [
    "def root_mean_squared_error(y_true, y_pred):\n",
    "    \"\"\"\n",
    "    Calculate Root Mean Squared Error (RMSE) manually.\n",
    "\n",
    "    Parameters:\n",
    "    y_true (list): Actual values\n",
    "    y_pred (list): Predicted values\n",
    "\n",
    "    Returns:\n",
    "    float: Root Mean Squared Error\n",
    "    \"\"\"\n",
    "    # Ensure y_true and y_pred are of the same length\n",
    "    if len(y_true) != len(y_pred):\n",
    "        raise ValueError(\"The length of y_true and y_pred must be the same.\")\n",
    "    \n",
    "    # Initialize total squared error\n",
    "    total_squared_error = 0\n",
    "    \n",
    "    # Calculate squared errors\n",
    "    for i in range(len(y_true)):\n",
    "        error = y_true[i] - y_pred[i]\n",
    "        total_squared_error += error ** 2\n",
    "    \n",
    "    # Compute mean squared error\n",
    "    mse = total_squared_error / len(y_true)\n",
    "    \n",
    "    # Return the square root of the MSE (RMSE)\n",
    "    rmse = math.sqrt(mse)\n",
    "    return rmse\n"
   ]
  },
  {
   "cell_type": "code",
   "execution_count": 3,
   "id": "2b950e4a-992f-4c2f-a94c-c49c2221a4a0",
   "metadata": {},
   "outputs": [
    {
     "name": "stdout",
     "output_type": "stream",
     "text": [
      "Root Mean Squared Error: 3.521363372331802\n"
     ]
    }
   ],
   "source": [
    "# Example dataset\n",
    "y_true = [10, 20, 30, 40, 50]\n",
    "y_pred = [12, 18, 35, 38, 55]\n",
    "\n",
    "# Calculate RMSE\n",
    "rmse = root_mean_squared_error(y_true, y_pred)\n",
    "print(f\"Root Mean Squared Error: {rmse}\")"
   ]
  }
 ],
 "metadata": {
  "kernelspec": {
   "display_name": "Python 3 (ipykernel)",
   "language": "python",
   "name": "python3"
  },
  "language_info": {
   "codemirror_mode": {
    "name": "ipython",
    "version": 3
   },
   "file_extension": ".py",
   "mimetype": "text/x-python",
   "name": "python",
   "nbconvert_exporter": "python",
   "pygments_lexer": "ipython3",
   "version": "3.12.7"
  }
 },
 "nbformat": 4,
 "nbformat_minor": 5
}
