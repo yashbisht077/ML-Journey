{
 "cells": [
  {
   "cell_type": "markdown",
   "id": "42e60eea-fdfe-46b5-ba6c-e7718cd34470",
   "metadata": {},
   "source": [
    "# Manual Calculation of Mean Squared Error (MSE)\n",
    "\n",
    "## 1. Introduction\n",
    "The **Mean Squared Error (MSE)** is a standard metric used to evaluate the performance of regression models. It calculates the average of the squared differences between the actual and predicted values, giving more weight to larger errors.\n",
    "\n",
    "This notebook demonstrates:\n",
    "1. The manual implementation of MSE without using built-in libraries.\n",
    "2. Testing the implementation with a sample dataset.\n",
    "\n",
    "---\n",
    "## Function Definition\n",
    "\n",
    "The `mean_squared_error` function is defined to:\n",
    "- Take two lists: `y_true` (actual values) and `y_pred` (predicted values).\n",
    "- Calculate the Mean Squared Error by:\n",
    "  - Computing the squared difference for each pair of true and predicted values.\n",
    "  - Summing up all squared differences.\n",
    "  - Dividing the total by the number of data points.\n",
    "\n",
    "The function includes input validation to ensure both lists have the same length and raises an error if they differ.\n",
    "\n",
    "---"
   ]
  },
  {
   "cell_type": "code",
   "execution_count": 1,
   "id": "7e5bbd52-6f76-49ba-a430-c577ceac351d",
   "metadata": {},
   "outputs": [],
   "source": [
    "def mean_squared_error(y_true, y_pred):\n",
    "    \"\"\"\n",
    "    Calculate Mean Squared Error (MSE) manually.\n",
    "\n",
    "    Parameters:\n",
    "    y_true (list): Actual values\n",
    "    y_pred (list): Predicted values\n",
    "\n",
    "    Returns:\n",
    "    float: Mean Squared Error\n",
    "    \"\"\"\n",
    "    # Ensure y_true and y_pred are of the same length\n",
    "    if len(y_true) != len(y_pred):\n",
    "        raise ValueError(\"The length of y_true and y_pred must be the same.\")\n",
    "    \n",
    "    # Initialize total squared error\n",
    "    total_squared_error = 0\n",
    "    \n",
    "    # Calculate squared errors\n",
    "    for i in range(len(y_true)):\n",
    "        error = y_true[i] - y_pred[i]\n",
    "        total_squared_error += error ** 2\n",
    "    \n",
    "    # Compute mean squared error\n",
    "    mse = total_squared_error / len(y_true)\n",
    "    return mse"
   ]
  },
  {
   "cell_type": "code",
   "execution_count": 2,
   "id": "f24c6a1c-5158-47c8-8a83-aafdd5579e43",
   "metadata": {},
   "outputs": [
    {
     "name": "stdout",
     "output_type": "stream",
     "text": [
      "Mean Squared Error: 12.4\n"
     ]
    }
   ],
   "source": [
    "# Example dataset\n",
    "y_true = [10, 20, 30, 40, 50]\n",
    "y_pred = [12, 18, 35, 38, 55]\n",
    "\n",
    "# Calculate MSE\n",
    "mse = mean_squared_error(y_true, y_pred)\n",
    "print(f\"Mean Squared Error: {mse}\")"
   ]
  }
 ],
 "metadata": {
  "kernelspec": {
   "display_name": "Python 3 (ipykernel)",
   "language": "python",
   "name": "python3"
  },
  "language_info": {
   "codemirror_mode": {
    "name": "ipython",
    "version": 3
   },
   "file_extension": ".py",
   "mimetype": "text/x-python",
   "name": "python",
   "nbconvert_exporter": "python",
   "pygments_lexer": "ipython3",
   "version": "3.12.7"
  }
 },
 "nbformat": 4,
 "nbformat_minor": 5
}
