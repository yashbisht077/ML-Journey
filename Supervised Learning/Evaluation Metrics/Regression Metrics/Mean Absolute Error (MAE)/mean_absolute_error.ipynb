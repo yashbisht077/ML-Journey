{
 "cells": [
  {
   "cell_type": "markdown",
   "id": "0b0adcfb-f876-48f7-9fdc-9f0e1be9ce9d",
   "metadata": {},
   "source": [
    "# Implementation of Mean Absolute Error (MAE) Without Inbuilt Functions\n",
    "\n",
    "## Introduction\n",
    "The **Mean Absolute Error (MAE)** is a commonly used metric for evaluating the accuracy of a regression model. It measures the average magnitude of errors in predictions without considering their direction (positive or negative).\n",
    "\n",
    "This notebook demonstrates how to:\n",
    "1. Implement the MAE calculation manually without using inbuilt libraries like `numpy`.\n",
    "2. Validate the implementation with example datasets.\n",
    "\n",
    "---\n",
    "## Function Definition\n",
    "The `mean_absolute_error` function is defined to:\n",
    "- Take two lists: `y_true` (actual values) and `y_pred` (predicted values).\n",
    "- Calculate the Mean Absolute Error by:\n",
    "  - Computing the absolute difference for each pair of true and predicted values.\n",
    "  - Summing up all absolute differences.\n",
    "  - Dividing the total by the number of data points.\n",
    "\n",
    "The function includes input validation to ensure both lists have the same length.\n",
    "\n",
    "---\n"
   ]
  },
  {
   "cell_type": "code",
   "execution_count": 1,
   "id": "2ed6f2da-4c1b-483d-99c9-d09bb083bc68",
   "metadata": {},
   "outputs": [],
   "source": [
    "def mean_absolute_error(y_true, y_pred):\n",
    "    \"\"\"\n",
    "    Calculate Mean Absolute Error (MAE) without using any inbuilt functions.\n",
    "\n",
    "    Parameters:\n",
    "    y_true (list): Actual values\n",
    "    y_pred (list): Predicted values\n",
    "\n",
    "    Returns:\n",
    "    float: Mean Absolute Error\n",
    "    \"\"\"\n",
    "    # Initialize a variable to store the sum of absolute errors\n",
    "    total_error = 0\n",
    "    \n",
    "    # Ensure y_true and y_pred are of the same length\n",
    "    if len(y_true) != len(y_pred):\n",
    "        raise ValueError(\"The length of y_true and y_pred must be the same.\")\n",
    "    # Iterate through the data points\n",
    "    for i in range(len(y_true)):\n",
    "        # Calculate absolute error for each point\n",
    "        error = y_true[i] - y_pred[i] \n",
    "        if error >= 0:            # Equivalent to abs(error)\n",
    "            absolute_error = error\n",
    "        else:\n",
    "            absolute_error = -error\n",
    "        # Accumulate the absolute error\n",
    "        total_error += absolute_error\n",
    "    # Calculate the mean absolute error\n",
    "    mae = total_error / len(y_true)\n",
    "    return mae"
   ]
  },
  {
   "cell_type": "code",
   "execution_count": 2,
   "id": "6ca09dbc-eb1a-46b1-be17-bd3b5286994c",
   "metadata": {},
   "outputs": [
    {
     "name": "stdout",
     "output_type": "stream",
     "text": [
      "Mean Absolute Error: 5.0\n"
     ]
    }
   ],
   "source": [
    "# Example dataset (larger set of values)\n",
    "y_true = [25, 30, 45, 50, 60, 75, 80, 90, 100, 120]\n",
    "y_pred = [20, 35, 40, 55, 65, 70, 85, 85, 105, 115]\n",
    "\n",
    "# Calculate MAE\n",
    "mae = mean_absolute_error(y_true, y_pred)\n",
    "print(f\"Mean Absolute Error: {mae}\")"
   ]
  }
 ],
 "metadata": {
  "kernelspec": {
   "display_name": "Python 3 (ipykernel)",
   "language": "python",
   "name": "python3"
  },
  "language_info": {
   "codemirror_mode": {
    "name": "ipython",
    "version": 3
   },
   "file_extension": ".py",
   "mimetype": "text/x-python",
   "name": "python",
   "nbconvert_exporter": "python",
   "pygments_lexer": "ipython3",
   "version": "3.12.7"
  }
 },
 "nbformat": 4,
 "nbformat_minor": 5
}
